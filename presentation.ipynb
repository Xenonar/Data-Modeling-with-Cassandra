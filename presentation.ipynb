{
 "cells": [
  {
   "cell_type": "markdown",
   "metadata": {
    "editable": true
   },
   "source": [
    "# Presentation Notebook"
   ]
  },
  {
   "cell_type": "markdown",
   "metadata": {
    "editable": true
   },
   "source": [
    "## Import library"
   ]
  },
  {
   "cell_type": "code",
   "execution_count": 1,
   "metadata": {
    "editable": true
   },
   "outputs": [],
   "source": [
    "import pandas as pd\n",
    "import cassandra\n",
    "import re\n",
    "import os\n",
    "import glob\n",
    "import numpy as np\n",
    "import json\n",
    "import csv\n",
    "from cassandra.cluster import Cluster\n",
    "from prettytable import PrettyTable"
   ]
  },
  {
   "cell_type": "markdown",
   "metadata": {
    "editable": true
   },
   "source": [
    "## Create the function for process the multiple csv files (raw data) into one csv file"
   ]
  },
  {
   "cell_type": "markdown",
   "metadata": {
    "editable": true
   },
   "source": [
    "This function,\n",
    "1. open all csv files and read\n",
    "2. extract the data\n",
    "3. create csv file accroding to a table which has columns artist name, user firstname, gender,item in session, user lastname, song length, level, location, session id, song name, and user id"
   ]
  },
  {
   "cell_type": "markdown",
   "metadata": {
    "editable": true
   },
   "source": [
    "    \"\"\"\n",
    "    Description: This function read all the csv file from event_data folder into event_datafile_new.csv\n",
    "    \n",
    "    Arguments:\n",
    "        path: folder name\n",
    "        \n",
    "    Returns:\n",
    "        None\n",
    "    \"\"\""
   ]
  },
  {
   "cell_type": "code",
   "execution_count": 2,
   "metadata": {
    "editable": true
   },
   "outputs": [],
   "source": [
    "def process_csv(path):\n",
    "    filepath = os.getcwd() + path\n",
    "\n",
    "    for root, dirs, files in os.walk(filepath):\n",
    "        file_path_list = glob.glob(os.path.join(root,'*'))\n",
    "    full_data_rows_list = [] \n",
    "    for f in file_path_list:\n",
    "\n",
    "        with open(f, 'r', encoding = 'utf8', newline='') as csvfile: \n",
    "            csvreader = csv.reader(csvfile) \n",
    "            next(csvreader)    \n",
    "            for line in csvreader:\n",
    "                full_data_rows_list.append(line) \n",
    "\n",
    "    csv.register_dialect('myDialect', quoting=csv.QUOTE_ALL, skipinitialspace=True)\n",
    "\n",
    "    with open('event_datafile_new.csv', 'w', encoding = 'utf8', newline='') as f:\n",
    "        writer = csv.writer(f, dialect='myDialect')\n",
    "        writer.writerow(['artist','firstName','gender','itemInSession','lastName','length',\\\n",
    "                    'level','location','sessionId','song','userId'])\n",
    "        for row in full_data_rows_list:\n",
    "            if (row[0] == ''):\n",
    "                continue\n",
    "            writer.writerow((row[0], row[2], row[3], row[4], row[5], row[6], row[7], row[8], row[12], row[13], row[16])) "
   ]
  },
  {
   "cell_type": "markdown",
   "metadata": {
    "editable": true
   },
   "source": [
    "## Create the function for checking the row in csv file"
   ]
  },
  {
   "cell_type": "markdown",
   "metadata": {
    "editable": true
   },
   "source": [
    "In this function, purpose is to check that the data exists in the file or not"
   ]
  },
  {
   "cell_type": "markdown",
   "metadata": {
    "editable": true
   },
   "source": [
    "    \"\"\"\n",
    "    Description: This function for checking the row in csv file\n",
    "    \n",
    "    Arguments:\n",
    "        file: csv file name\n",
    "        \n",
    "    Returns:\n",
    "        None\n",
    "    \"\"\""
   ]
  },
  {
   "cell_type": "code",
   "execution_count": 3,
   "metadata": {
    "editable": true
   },
   "outputs": [],
   "source": [
    "def check_numrow(file):\n",
    "    with open(file, 'r', encoding = 'utf8') as f:\n",
    "        print(sum(1 for line in f))"
   ]
  },
  {
   "cell_type": "markdown",
   "metadata": {
    "editable": true
   },
   "source": [
    "## Create the function for create keyspace"
   ]
  },
  {
   "cell_type": "markdown",
   "metadata": {
    "editable": true
   },
   "source": [
    "In this function, do 2 process as follows:\n",
    "1. Create Keyspace\n",
    "2. Set the Keyspace"
   ]
  },
  {
   "cell_type": "markdown",
   "metadata": {
    "editable": true
   },
   "source": [
    "    \"\"\"\n",
    "    Description: This function create the keyspace for Cassandra using the specific name user provide\n",
    "   \n",
    "    Arguments:\n",
    "        name: the name for keyspace\n",
    "        \n",
    "    Returns:\n",
    "        None\n",
    "    \"\"\""
   ]
  },
  {
   "cell_type": "code",
   "execution_count": 4,
   "metadata": {
    "editable": true
   },
   "outputs": [],
   "source": [
    "def create_keyspace(name):\n",
    "    query = \"CREATE KEYSPACE IF NOT EXISTS \" + name +\" WITH REPLICATION = { 'class' : 'SimpleStrategy', 'replication_factor' : 1 }\"\n",
    "    try:\n",
    "        session.execute(query)\n",
    "    except Exception as e:\n",
    "        print(e)\n",
    "    try:\n",
    "        session.set_keyspace(name)\n",
    "    except Exception as e:\n",
    "        print(e)"
   ]
  },
  {
   "cell_type": "markdown",
   "metadata": {
    "editable": true
   },
   "source": [
    "## Create the fuction for create table and push all data"
   ]
  },
  {
   "cell_type": "markdown",
   "metadata": {
    "editable": true
   },
   "source": [
    "In this function,\n",
    "1. will drop the table if the table already exists in the system if not it will pass to the next process\n",
    "2. Create the table according to the 'table' argument with 'primary' as the PRIMARY KEY \n",
    "3. Then it will INSERT the data into the table and the data come from 'event_datafile_new.csv'"
   ]
  },
  {
   "cell_type": "markdown",
   "metadata": {
    "editable": true
   },
   "source": [
    "    \"\"\"\n",
    "    Description: This function create the table according to the name and Primary key\n",
    "    \n",
    "    Arguments:\n",
    "        table: the name for table\n",
    "        primary: the primary key for table\n",
    "        opt: the option must be select 1-3 according to the SELECT query\n",
    "        \n",
    "    Returns:\n",
    "        None\n",
    "    \"\"\""
   ]
  },
  {
   "cell_type": "code",
   "execution_count": 5,
   "metadata": {
    "editable": true
   },
   "outputs": [],
   "source": [
    "def create_data(table, primary, opt):\n",
    "    head = \"DROP TABLE IF EXISTS \" + table\n",
    "    session.execute(head)        \n",
    "    query = \"CREATE TABLE IF NOT EXISTS \" + table\n",
    "    if opt==1:\n",
    "        query = query + \"(sessionid text, iteminsession text, artist_name text, song_title text,song_length text, user_firstname text, user_lastname text, userid text,\\\n",
    "        PRIMARY KEY (\"+primary+\" ))\"\n",
    "    elif opt==2:\n",
    "        query = query + \"(sessionid text, userid text, iteminsession text, artist_name text, song_title text,song_length text, user_firstname text, user_lastname text, \\\n",
    "        PRIMARY KEY (\"+primary+\" ))\"\n",
    "    elif opt==3:\n",
    "        query = query + \"(song_title text,user_firstname text, user_lastname text, userid text,artist_name text, song_length text, sessionid text, iteminsession text,  \\\n",
    "        PRIMARY KEY (\"+primary+\" ))\"\n",
    "\n",
    "    try:\n",
    "        session.execute(query)\n",
    "        insert_data(table,opt)\n",
    "    except Exception as e:\n",
    "        print(e)       "
   ]
  },
  {
   "cell_type": "markdown",
   "metadata": {
    "editable": true
   },
   "source": [
    "    \"\"\"\n",
    "    Description: This function insert all data from .csv file into the table\n",
    "    \n",
    "    Arguments:\n",
    "        table: the name for table\n",
    "        opt: the option must be select 1-3\n",
    "        \n",
    "    Returns:\n",
    "        None\n",
    "    \"\"\""
   ]
  },
  {
   "cell_type": "code",
   "execution_count": 6,
   "metadata": {
    "editable": true
   },
   "outputs": [],
   "source": [
    "def insert_data(table, opt):\n",
    "    file = 'event_datafile_new.csv'\n",
    "    with open(file, encoding = 'utf8') as f:\n",
    "        csvreader = csv.reader(f)\n",
    "        next(csvreader)\n",
    "        if opt==1:\n",
    "            for line in csvreader:\n",
    "                query = \"INSERT INTO \"+table+\"(sessionid,iteminsession,artist_name,song_title,song_length,user_firstname,user_lastname,userid)\"\n",
    "                query = query + \"VALUES(%s,%s,%s,%s,%s,%s,%s,%s)\"\n",
    "                data_line = (line[-3],line[3],line[0],line[-2],line[5],line[1],line[4],line[-1])\n",
    "                session.execute(query, data_line)\n",
    "        elif opt==2:\n",
    "            for line in csvreader:\n",
    "                query = \"INSERT INTO \"+table+\"(sessionid,userid,iteminsession,artist_name,song_title,song_length,user_firstname,user_lastname)\"\n",
    "                query = query + \"VALUES(%s,%s,%s,%s,%s,%s,%s,%s)\"\n",
    "                data_line = (line[-3],line[-1],line[3],line[0],line[-2],line[5],line[1],line[4])\n",
    "                session.execute(query, data_line)\n",
    "        elif opt==3:\n",
    "             for line in csvreader:\n",
    "                query = \"INSERT INTO \"+table+\"(song_title,user_firstname,user_lastname,userid,artist_name,song_length,sessionid,iteminsession )\"\n",
    "                query = query + \"VALUES(%s,%s,%s,%s,%s,%s,%s,%s)\"\n",
    "                data_line = (line[-2],line[1],line[4],line[-1],line[0],line[5],line[-3],line[3])\n",
    "                session.execute(query, data_line)"
   ]
  },
  {
   "cell_type": "markdown",
   "metadata": {
    "editable": true
   },
   "source": [
    "## Create the function for select the data according to the query 1-3"
   ]
  },
  {
   "cell_type": "markdown",
   "metadata": {
    "editable": true
   },
   "source": [
    "In this function create for select the data according to the primary and clustering key specify in this project which have 3 selections.\n",
    "\n",
    "1. Print artistist name, song name, and song length\n",
    "2. Print artistist name, song name, user firstname, and user lastname\n",
    "3. Print user firstname and user lastname\n",
    "\n",
    "And for the select query we need to specify statement (fwh) for those 3 selections as well"
   ]
  },
  {
   "cell_type": "markdown",
   "metadata": {
    "editable": true
   },
   "source": [
    "    \"\"\"\n",
    "    Description: This function select the data according to the table and query\n",
    "    \n",
    "    Arguments:\n",
    "        table: the name for table\n",
    "        fwh: mean From the WHERE statement (From WHere)\n",
    "        opt: option for select\n",
    "        select_field: for select the specific column in SELECT instead of 'SELECT * ' (for cost sufficient)\n",
    "        \n",
    "    Returns:\n",
    "        None\n",
    "    \"\"\""
   ]
  },
  {
   "cell_type": "code",
   "execution_count": 7,
   "metadata": {
    "editable": true
   },
   "outputs": [],
   "source": [
    "def select_data(table, fwh, opt, select_field) :\n",
    "    query = \"select \"+select_field+\" from \"+table+\" WHERE \"+fwh \n",
    "    try:\n",
    "        rows = session.execute(query)\n",
    "    except Exception as e:\n",
    "        print(e)\n",
    "    if opt==1:\n",
    "        col = PrettyTable(['Artist', 'Song', 'Length'])\n",
    "        for row in rows:\n",
    "            col.add_row([row.artist_name, row.song_title, row.song_length])\n",
    "    elif opt==2:\n",
    "        col = PrettyTable(['Artist', 'Song', 'User Firstname', 'User Lastname'])\n",
    "        for row in rows:\n",
    "            col.add_row([row.artist_name, row.song_title, row.user_firstname, row.user_lastname])\n",
    "    elif opt==3:\n",
    "        col = PrettyTable(['User Firstname', 'User Lastname'])\n",
    "        for row in rows:\n",
    "            col.add_row([row.user_firstname, row.user_lastname])\n",
    "    else:\n",
    "        print('error')\n",
    "    print(col)"
   ]
  },
  {
   "cell_type": "markdown",
   "metadata": {
    "editable": true
   },
   "source": [
    "## Perform all the function in order\n"
   ]
  },
  {
   "cell_type": "markdown",
   "metadata": {
    "editable": true
   },
   "source": [
    "1. start the connection in the name of session\n",
    "2. The start process the csv file\n",
    "3. Create KeySpace\n",
    "4. Create and Insert table for song_playlist 1,song_playlist 2,song_playlist 3\n",
    "5. Select the data from song_playlist 1\n",
    "6. Select the data from song_playlist 2\n",
    "7. Select the data from song_playlist 3"
   ]
  },
  {
   "cell_type": "code",
   "execution_count": 11,
   "metadata": {
    "editable": true
   },
   "outputs": [
    {
     "name": "stdout",
     "output_type": "stream",
     "text": [
      "Preparing Data....\n",
      "Song Playlist 1st Table\n",
      "+-----------+---------------------------------+----------+\n",
      "|   Artist  |               Song              |  Length  |\n",
      "+-----------+---------------------------------+----------+\n",
      "| Faithless | Music Matters (Mark Knight Dub) | 495.3073 |\n",
      "+-----------+---------------------------------+----------+\n",
      "Song Playlist 2nd Table\n",
      "+-------------------+------------------------------------------------------+----------------+---------------+\n",
      "|       Artist      |                         Song                         | User Firstname | User Lastname |\n",
      "+-------------------+------------------------------------------------------+----------------+---------------+\n",
      "|  Down To The Bone |                  Keep On Keepin' On                  |     Sylvie     |      Cruz     |\n",
      "|    Three Drives   |                     Greece 2000                      |     Sylvie     |      Cruz     |\n",
      "| Sebastien Tellier |                      Kilometer                       |     Sylvie     |      Cruz     |\n",
      "|   Lonnie Gordon   | Catch You Baby (Steve Pitron & Max Sanna Radio Edit) |     Sylvie     |      Cruz     |\n",
      "+-------------------+------------------------------------------------------+----------------+---------------+\n",
      "Song Playlist 3rd Table\n",
      "+----------------+---------------+\n",
      "| User Firstname | User Lastname |\n",
      "+----------------+---------------+\n",
      "|   Jacqueline   |     Lynch     |\n",
      "|      Sara      |    Johnson    |\n",
      "|     Tegan      |     Levine    |\n",
      "+----------------+---------------+\n"
     ]
    }
   ],
   "source": [
    "cluster = Cluster()\n",
    "session = cluster.connect()\n",
    "process_csv('/event_data')\n",
    "create_keyspace('cassandrapj')\n",
    "print('Preparing Data....')\n",
    "create_data('song_playlist_session', 'sessionid, iteminsession',1)\n",
    "create_data('song_playlist_user', '(sessionid, userid), iteminsession',2)\n",
    "create_data('song_playlist_songtitle', '(song_title), user_firstname,user_lastname, userid',3)\n",
    "print('Song Playlist 1st Table')\n",
    "select_data('song_playlist_session', \"sessionid='338' and iteminsession='4'\",1, \"artist_name,song_title,song_length\")\n",
    "print('Song Playlist 2nd Table')\n",
    "select_data('song_playlist_user',\"sessionid='182' AND userid='10'\",2, \"artist_name,song_title,user_firstname,user_lastname\")\n",
    "print('Song Playlist 3rd Table')\n",
    "select_data('song_playlist_songtitle',\"song_title='All Hands Against His Own'\",3,\"user_firstname,user_lastname\")"
   ]
  },
  {
   "cell_type": "code",
   "execution_count": 9,
   "metadata": {
    "editable": true
   },
   "outputs": [],
   "source": []
  },
  {
   "cell_type": "code",
   "execution_count": null,
   "metadata": {
    "editable": true
   },
   "outputs": [],
   "source": []
  }
 ],
 "metadata": {
  "kernelspec": {
   "display_name": "Python 3",
   "language": "python",
   "name": "python3"
  },
  "language_info": {
   "codemirror_mode": {
    "name": "ipython",
    "version": 3
   },
   "file_extension": ".py",
   "mimetype": "text/x-python",
   "name": "python",
   "nbconvert_exporter": "python",
   "pygments_lexer": "ipython3",
   "version": "3.6.3"
  }
 },
 "nbformat": 4,
 "nbformat_minor": 4
}
